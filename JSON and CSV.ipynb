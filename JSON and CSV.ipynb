{
 "cells": [
  {
   "cell_type": "code",
   "execution_count": 2,
   "id": "28e44c45-d148-42e5-a923-ebd4789959c6",
   "metadata": {},
   "outputs": [],
   "source": [
    "data ={\n",
    "    \"name\" : \"shah\",\n",
    "    \"mail_id\" : \"shah@gmail.com\",\n",
    "    \"phone number\" : 9883645187,\n",
    "    \"subject\" : [\"data science\", \"big data\" , \"data analytics\"]\n",
    "}"
   ]
  },
  {
   "cell_type": "code",
   "execution_count": 3,
   "id": "8d711ffe-37ab-4a58-a9e4-c16f528fcbed",
   "metadata": {},
   "outputs": [],
   "source": [
    "import json"
   ]
  },
  {
   "cell_type": "code",
   "execution_count": 4,
   "id": "b77dfa6d-d831-4dff-ab47-2bc3b19f39e2",
   "metadata": {},
   "outputs": [],
   "source": [
    "with open(\"data .json\" , \"w\") as f :\n",
    "    json.dump(data , f)"
   ]
  },
  {
   "cell_type": "code",
   "execution_count": 11,
   "id": "81cb1b45-366e-467b-8c71-8dece0adc6da",
   "metadata": {},
   "outputs": [],
   "source": [
    "with open (\"data .json\" , \"r\") as f :\n",
    "    data1 = json.load(f)"
   ]
  },
  {
   "cell_type": "code",
   "execution_count": 13,
   "id": "ea1c546d-7bc0-4aa2-b1f4-1e28667af543",
   "metadata": {},
   "outputs": [
    {
     "data": {
      "text/plain": [
       "'big data'"
      ]
     },
     "execution_count": 13,
     "metadata": {},
     "output_type": "execute_result"
    }
   ],
   "source": [
    "data1['subject'][1]"
   ]
  },
  {
   "cell_type": "code",
   "execution_count": 14,
   "id": "95f43ff7-52b4-47aa-9d8e-62d3cb7866aa",
   "metadata": {},
   "outputs": [],
   "source": [
    "import csv"
   ]
  },
  {
   "cell_type": "code",
   "execution_count": 18,
   "id": "6ed469e2-42af-4b24-8e3b-9238fb133c28",
   "metadata": {},
   "outputs": [],
   "source": [
    "data = [[\"name\" , \"email_id\", \"phone_number\"],\n",
    "        [\"shah\", \"shah@gmail.com\", 9884574535],\n",
    "        [\"khan\", \"khan@gmail.com\", 784521356]\n",
    "]"
   ]
  },
  {
   "cell_type": "code",
   "execution_count": 19,
   "id": "d2e4f9f9-98cd-4125-ae93-256bc165f144",
   "metadata": {},
   "outputs": [],
   "source": [
    "with open (\"data.csv\" , \"w\") as f :\n",
    "    writer = csv.writer(f)\n",
    "    \n",
    "    for i in data:\n",
    "        writer.writerow(i)"
   ]
  },
  {
   "cell_type": "code",
   "execution_count": 20,
   "id": "7892d058-5dc6-4cd8-8b92-5d0cb16dafe1",
   "metadata": {},
   "outputs": [
    {
     "name": "stdout",
     "output_type": "stream",
     "text": [
      "['name', 'email_id', 'phone_number']\n",
      "['shah', 'shah@gmail.com', '9884574535']\n",
      "['khan', 'khan@gmail.com', '784521356']\n"
     ]
    }
   ],
   "source": [
    "with open(\"data.csv\" , 'r') as f :\n",
    "    read_data = csv.reader(f)\n",
    "    \n",
    "    for i in read_data:\n",
    "        print(i)"
   ]
  },
  {
   "cell_type": "code",
   "execution_count": 25,
   "id": "aa5ff318-704f-4c46-8f73-173860114243",
   "metadata": {},
   "outputs": [],
   "source": [
    "with open (\"test4.bin\" , \"wb\") as f :\n",
    "    f.write(b\"\\x01\\x02\\x03\\x9883545138\")"
   ]
  },
  {
   "cell_type": "code",
   "execution_count": 26,
   "id": "43f34379-1897-488f-aa1d-829548969374",
   "metadata": {},
   "outputs": [
    {
     "name": "stdout",
     "output_type": "stream",
     "text": [
      "b'\\x01\\x02\\x03\\x9883545138'\n"
     ]
    }
   ],
   "source": [
    "with open(\"test4.bin\", \"rb\") as f :\n",
    "    print(f.read())"
   ]
  },
  {
   "cell_type": "code",
   "execution_count": null,
   "id": "0b1e2919-d596-421d-9d86-758fbd7db926",
   "metadata": {},
   "outputs": [],
   "source": []
  }
 ],
 "metadata": {
  "kernelspec": {
   "display_name": "Python 3 (ipykernel)",
   "language": "python",
   "name": "python3"
  },
  "language_info": {
   "codemirror_mode": {
    "name": "ipython",
    "version": 3
   },
   "file_extension": ".py",
   "mimetype": "text/x-python",
   "name": "python",
   "nbconvert_exporter": "python",
   "pygments_lexer": "ipython3",
   "version": "3.10.8"
  }
 },
 "nbformat": 4,
 "nbformat_minor": 5
}
